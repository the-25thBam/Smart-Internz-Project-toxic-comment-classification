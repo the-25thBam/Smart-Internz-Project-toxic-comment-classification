{
 "cells": [
  {
   "cell_type": "code",
   "execution_count": 2,
   "id": "b107e3cb",
   "metadata": {},
   "outputs": [],
   "source": [
    "from tensorflow.keras.preprocessing.image import ImageDataGenerator"
   ]
  },
  {
   "cell_type": "code",
   "execution_count": 3,
   "id": "343164c8",
   "metadata": {},
   "outputs": [],
   "source": [
    "train_gen = ImageDataGenerator(rescale=(1./255),horizontal_flip=True,shear_range=0.2)\n",
    "test_gen = ImageDataGenerator(rescale=(1./255))"
   ]
  },
  {
   "cell_type": "code",
   "execution_count": 6,
   "id": "98779f1b",
   "metadata": {},
   "outputs": [
    {
     "name": "stdout",
     "output_type": "stream",
     "text": [
      "Found 150 images belonging to 16 classes.\n",
      "Found 157 images belonging to 16 classes.\n"
     ]
    }
   ],
   "source": [
    "train = train_gen.flow_from_directory('train_data/train_data',\n",
    "                                      target_size=(120, 120),\n",
    "                                      class_mode='categorical', \n",
    "                                      batch_size=8)\n",
    "test = test_gen.flow_from_directory('test_data/test_data',\n",
    "                                    target_size=(120, 120),\n",
    "                                      class_mode='categorical', \n",
    "                                      batch_size=8)\n",
    "     "
   ]
  },
  {
   "cell_type": "code",
   "execution_count": 7,
   "id": "690560ec",
   "metadata": {},
   "outputs": [
    {
     "data": {
      "text/plain": [
       "{'blasti': 0,\n",
       " 'bonegl': 1,\n",
       " 'brhkyt': 2,\n",
       " 'cbrtsh': 3,\n",
       " 'cmnmyn': 4,\n",
       " 'gretit': 5,\n",
       " 'hilpig': 6,\n",
       " 'himbul': 7,\n",
       " 'himgri': 8,\n",
       " 'hsparo': 9,\n",
       " 'indvul': 10,\n",
       " 'jglowl': 11,\n",
       " 'lbicrw': 12,\n",
       " 'mgprob': 13,\n",
       " 'rebimg': 14,\n",
       " 'wcrsrt': 15}"
      ]
     },
     "execution_count": 7,
     "metadata": {},
     "output_type": "execute_result"
    }
   ],
   "source": [
    "train.class_indices"
   ]
  },
  {
   "cell_type": "code",
   "execution_count": 8,
   "id": "8cca8c87",
   "metadata": {},
   "outputs": [],
   "source": [
    "from tensorflow.keras.layers import Convolution2D,MaxPooling2D,Flatten,Dense\n",
    "from tensorflow.keras.models import Sequential"
   ]
  },
  {
   "cell_type": "code",
   "execution_count": 12,
   "id": "8aa05cee",
   "metadata": {},
   "outputs": [],
   "source": [
    "model = Sequential()\n",
    "model.add(Convolution2D(20,(3,3),activation='relu',input_shape=(120, 120, 3)))\n",
    "model.add(MaxPooling2D(pool_size=(2,2)))\n",
    "model.add(Flatten())\n",
    "model.add(Dense(45,activation='relu'))\n",
    "model.add(Dense(16,activation='softmax'))"
   ]
  },
  {
   "cell_type": "code",
   "execution_count": 13,
   "id": "cdbd2206",
   "metadata": {},
   "outputs": [],
   "source": [
    "model.compile(optimizer='adam',loss='categorical_crossentropy',metrics=['accuracy'])"
   ]
  },
  {
   "cell_type": "code",
   "execution_count": 14,
   "id": "7ca801d4",
   "metadata": {},
   "outputs": [
    {
     "name": "stdout",
     "output_type": "stream",
     "text": [
      "Epoch 1/10\n",
      "19/19 [==============================] - 187s 10s/step - loss: 3.5216 - accuracy: 0.0667 - val_loss: 2.7271 - val_accuracy: 0.1401\n",
      "Epoch 2/10\n",
      "19/19 [==============================] - 169s 9s/step - loss: 2.5573 - accuracy: 0.2133 - val_loss: 2.7236 - val_accuracy: 0.1401\n",
      "Epoch 3/10\n",
      "19/19 [==============================] - 181s 10s/step - loss: 2.3845 - accuracy: 0.2133 - val_loss: 2.7494 - val_accuracy: 0.1465\n",
      "Epoch 4/10\n",
      "19/19 [==============================] - 180s 10s/step - loss: 2.2739 - accuracy: 0.2933 - val_loss: 2.7829 - val_accuracy: 0.2293\n",
      "Epoch 5/10\n",
      "19/19 [==============================] - 180s 10s/step - loss: 2.1055 - accuracy: 0.3600 - val_loss: 2.8580 - val_accuracy: 0.1911\n",
      "Epoch 6/10\n",
      "19/19 [==============================] - 179s 10s/step - loss: 1.9207 - accuracy: 0.3800 - val_loss: 2.8932 - val_accuracy: 0.1592\n",
      "Epoch 7/10\n",
      "19/19 [==============================] - 176s 10s/step - loss: 1.7686 - accuracy: 0.4400 - val_loss: 2.9773 - val_accuracy: 0.2166\n",
      "Epoch 8/10\n",
      "19/19 [==============================] - 175s 9s/step - loss: 1.6799 - accuracy: 0.4600 - val_loss: 2.8016 - val_accuracy: 0.2038\n",
      "Epoch 9/10\n",
      "19/19 [==============================] - 185s 10s/step - loss: 1.5821 - accuracy: 0.4667 - val_loss: 2.8233 - val_accuracy: 0.1783\n",
      "Epoch 10/10\n",
      "19/19 [==============================] - 177s 10s/step - loss: 1.3514 - accuracy: 0.5400 - val_loss: 2.9725 - val_accuracy: 0.2102\n"
     ]
    },
    {
     "data": {
      "text/plain": [
       "<keras.callbacks.History at 0x210247bf130>"
      ]
     },
     "execution_count": 14,
     "metadata": {},
     "output_type": "execute_result"
    }
   ],
   "source": [
    "model.fit(train,batch_size=8,validation_data=test,epochs=10)"
   ]
  },
  {
   "cell_type": "code",
   "execution_count": 15,
   "id": "1446d847",
   "metadata": {},
   "outputs": [],
   "source": [
    "model.save('birdsClassification.h5')"
   ]
  },
  {
   "cell_type": "markdown",
   "id": "883e6118",
   "metadata": {},
   "source": [
    "# Testing"
   ]
  },
  {
   "cell_type": "code",
   "execution_count": 18,
   "id": "9dc69ff2",
   "metadata": {
    "scrolled": true
   },
   "outputs": [
    {
     "name": "stdout",
     "output_type": "stream",
     "text": [
      "1/1 [==============================] - 0s 282ms/step\n",
      "0\n",
      "blasti\n"
     ]
    }
   ],
   "source": [
    "import numpy as np\n",
    "from tensorflow.keras.preprocessing import image\n",
    "\n",
    "img1 = image.load_img('test_data/test_data/blasti/DSC_6399.jpg',target_size=(120,120))\n",
    "img1 = image.img_to_array(img1)\n",
    "img1 = np.expand_dims(img1,axis=0)\n",
    "pred = np.argmax(model.predict(img1))\n",
    "print(pred)\n",
    "output = ['blasti', 'bonegl', 'brhkyt', 'cbrtsh', 'cmnmyn', 'gretit', 'hilpig', 'himbul', 'himgri', 'hsparo', 'indvul', 'jglowl','lbicrw', 'mgprob', 'rebimg', 'wcrsrt']\n",
    "print(output[pred])"
   ]
  },
  {
   "cell_type": "code",
   "execution_count": null,
   "id": "5c878b20",
   "metadata": {},
   "outputs": [],
   "source": []
  }
 ],
 "metadata": {
  "kernelspec": {
   "display_name": "Python 3 (ipykernel)",
   "language": "python",
   "name": "python3"
  },
  "language_info": {
   "codemirror_mode": {
    "name": "ipython",
    "version": 3
   },
   "file_extension": ".py",
   "mimetype": "text/x-python",
   "name": "python",
   "nbconvert_exporter": "python",
   "pygments_lexer": "ipython3",
   "version": "3.9.7"
  }
 },
 "nbformat": 4,
 "nbformat_minor": 5
}
