{
 "cells": [
  {
   "cell_type": "code",
   "execution_count": 1,
   "id": "2952d87a",
   "metadata": {},
   "outputs": [],
   "source": [
    "from joblib import load\n",
    "from sklearn.feature_extraction.text import TfidfVectorizer"
   ]
  },
  {
   "cell_type": "code",
   "execution_count": 2,
   "id": "0e9fe0f8",
   "metadata": {},
   "outputs": [],
   "source": [
    "rf_classifier = load('random_forest_model.joblib')\n",
    "tfidf=load('rf_model_tfidf.joblib')"
   ]
  },
  {
   "cell_type": "code",
   "execution_count": 3,
   "id": "24b040c2",
   "metadata": {},
   "outputs": [],
   "source": [
    "new_comment=\"I'm going to freakin kill you\"\n",
    "\n",
    "new_comment_feature = tfidf.transform([new_comment])"
   ]
  },
  {
   "cell_type": "code",
   "execution_count": 4,
   "id": "94658e3c",
   "metadata": {},
   "outputs": [
    {
     "name": "stdout",
     "output_type": "stream",
     "text": [
      "Comment: I'm going to freakin kill you\n",
      "Predicted Labels: ['toxic', 'threat']\n"
     ]
    }
   ],
   "source": [
    "# Make the prediction\n",
    "prediction = rf_classifier.predict(new_comment_feature)\n",
    "\n",
    "l=prediction.flatten()\n",
    "l1=l.tolist()\n",
    "l2=[]\n",
    "\n",
    "if l1[0]==1:\n",
    "    l2.append(\"toxic\")\n",
    "if l1[1]==1:\n",
    "    l2.append(\"sever_toxic\")\n",
    "if l1[2]==1:\n",
    "    l2.append(\"obscene\")\n",
    "if l1[3]==1:\n",
    "    l2.append(\"threat\")\n",
    "if l1[4]==1:\n",
    "    l2.append(\"insult\")\n",
    "if l1[5]==1:\n",
    "    l2.append(\"identity_hate\")\n",
    "    \n",
    "# Print the prediction\n",
    "print(f\"Comment: {new_comment}\")\n",
    "print(f\"Predicted Labels: {l2}\")"
   ]
  },
  {
   "cell_type": "code",
   "execution_count": null,
   "id": "3bf07584",
   "metadata": {},
   "outputs": [],
   "source": []
  }
 ],
 "metadata": {
  "kernelspec": {
   "display_name": "Python 3 (ipykernel)",
   "language": "python",
   "name": "python3"
  },
  "language_info": {
   "codemirror_mode": {
    "name": "ipython",
    "version": 3
   },
   "file_extension": ".py",
   "mimetype": "text/x-python",
   "name": "python",
   "nbconvert_exporter": "python",
   "pygments_lexer": "ipython3",
   "version": "3.9.7"
  }
 },
 "nbformat": 4,
 "nbformat_minor": 5
}
